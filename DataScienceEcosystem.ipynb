{
 "cells": [
  {
   "cell_type": "markdown",
   "id": "1c22744b-088d-4bf2-b04a-bcfdfa4cc640",
   "metadata": {},
   "source": [
    "# Data Science Tools and Ecosystem"
   ]
  },
  {
   "cell_type": "markdown",
   "id": "2db864fc-aeb3-4eba-812f-140c480efa8e",
   "metadata": {},
   "source": [
    "## In this notebook, Data Science Tools and Ecosystem are summarized."
   ]
  },
  {
   "cell_type": "markdown",
   "id": "f996e3e5-e271-4dfc-ba9c-05a8bd84b38c",
   "metadata": {},
   "source": [
    "**Objectives:**\n",
    "- List popular Data Science languages\n",
    "- Show examples of coding arithmetic\n",
    "- Practice using Jupyter Notebook"
   ]
  },
  {
   "cell_type": "markdown",
   "id": "180262c9-aec9-4f6a-a4e1-04cbc3befb3c",
   "metadata": {},
   "source": [
    "Some of the popular languages that Data Scientists use are:\n",
    "1. Python\n",
    "2. R\n",
    "3. C++\n",
    "4. C\n"
   ]
  },
  {
   "cell_type": "markdown",
   "id": "893d72e0-4679-416a-96dd-ccbab2d7c265",
   "metadata": {},
   "source": [
    "Some of the commonly used libraries used by Data Scientists include:\n",
    "1. MatPlotLib\n",
    "2. ggplot2\n",
    "3. Pandas\n",
    "4. GGally"
   ]
  },
  {
   "cell_type": "markdown",
   "id": "079aafd2-0e4e-4d07-8498-aad10428706c",
   "metadata": {},
   "source": [
    "|Data Science Tools|\n",
    "|------|\n",
    "|Git|\n",
    "|Jupyter|\n",
    "|Visual Studio Code|"
   ]
  },
  {
   "cell_type": "markdown",
   "id": "9c7a9563-545b-4e26-b2f0-cb3833846e68",
   "metadata": {},
   "source": [
    "### Below are a few examples of evaluating arithmetic expressions in Python"
   ]
  },
  {
   "cell_type": "code",
   "execution_count": 4,
   "id": "aa749dc9-9b06-42ed-b52b-248f17a15ed2",
   "metadata": {
    "scrolled": true
   },
   "outputs": [
    {
     "data": {
      "text/plain": [
       "17"
      ]
     },
     "execution_count": 4,
     "metadata": {},
     "output_type": "execute_result"
    }
   ],
   "source": [
    "## This a simple arithmetic expression to mutiply then add integers\n",
    "(3*4)+5"
   ]
  },
  {
   "cell_type": "code",
   "execution_count": 15,
   "id": "31e97c82-263d-46ea-bb10-b470551556f2",
   "metadata": {},
   "outputs": [
    {
     "data": {
      "text/plain": [
       "3"
      ]
     },
     "execution_count": 15,
     "metadata": {},
     "output_type": "execute_result"
    }
   ],
   "source": [
    "## This will convert 200 minutes to hours by diving by 60\n",
    "minutes = 200\n",
    "hours = 200 // 60\n",
    "hours"
   ]
  },
  {
   "cell_type": "markdown",
   "id": "3e5bc7fa-8532-4224-b746-844c27d254fc",
   "metadata": {},
   "source": [
    "## This Notebook was created by:\n",
    "*Julia Sacca*"
   ]
  }
 ],
 "metadata": {
  "kernelspec": {
   "display_name": "Python 3 (ipykernel)",
   "language": "python",
   "name": "python3"
  },
  "language_info": {
   "codemirror_mode": {
    "name": "ipython",
    "version": 3
   },
   "file_extension": ".py",
   "mimetype": "text/x-python",
   "name": "python",
   "nbconvert_exporter": "python",
   "pygments_lexer": "ipython3",
   "version": "3.11.7"
  }
 },
 "nbformat": 4,
 "nbformat_minor": 5
}
